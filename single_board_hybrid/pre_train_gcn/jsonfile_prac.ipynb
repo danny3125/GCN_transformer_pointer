{
 "cells": [
  {
   "cell_type": "code",
   "execution_count": 41,
   "id": "cac5395a",
   "metadata": {},
   "outputs": [
    {
     "name": "stdout",
     "output_type": "stream",
     "text": [
      "tensor([[151.,  30.],\n",
      "        [197.,  30.],\n",
      "        [197.,  61.],\n",
      "        [151.,  61.]])\n"
     ]
    }
   ],
   "source": [
    "import torch\n",
    "import numpy as np\n",
    "from listofpathpoint import input_handler\n",
    "import cnc_input\n",
    "import copy\n",
    "import json\n",
    "def produce_random_data(boundry_recs, randomseed):\n",
    "    for i in range(0,len(boundry_recs),4):\n",
    "        np.random.seed(randomseed)\n",
    "        width = boundry_recs[i+2][0] - boundry_recs[i][0]\n",
    "        length = boundry_recs[i+2][1] - boundry_recs[i][1]\n",
    "        original_x,original_y = boundry_recs[i][0].clone(), boundry_recs[i][1].clone()\n",
    "        points_x = np.random.choice(int(width),2,replace=False)\n",
    "        points_y = np.random.choice(int(length),2,replace=False)\n",
    "        points_x.sort()\n",
    "        points_y.sort()\n",
    "        boundry_recs[i][0],boundry_recs[i][1] = (original_x + points_x[0]), (original_y + points_y[0])\n",
    "        boundry_recs[i+1][0],boundry_recs[i+1][1] = (original_x + points_x[1]), (original_y + points_y[0])\n",
    "        boundry_recs[i+2][0],boundry_recs[i+2][1] = (original_x + points_x[1]), (original_y + points_y[1])\n",
    "        boundry_recs[i+3][0],boundry_recs[i+3][1] = (original_x + points_x[0]), (original_y + points_y[1])\n",
    "    return boundry_recs\n",
    "def random_data_generator(origin_recs, batch_size):\n",
    "    result_X = torch.Tensor([])\n",
    "    for seed in range(batch_size):\n",
    "        temp_recs = origin_recs.clone()\n",
    "        temp_x = produce_random_data(temp_recs,seed)\n",
    "        result_X = torch.cat((result_X, temp_x),0)\n",
    "    result_X = result_X.reshape(batch_size,-1,temp_x.size(1))\n",
    "    return result_X\n",
    "\n",
    "test = input_handler('10&15data/25_chips/25_general.json')\n",
    "X_temp, mask_list_num = test.final_ver_points()\n",
    "X_temp = torch.FloatTensor(X_temp)\n",
    "# result = produce_random_data(X_temp,2)\n",
    "# result_1 = produce_random_data(X_temp,2)\n",
    "# now we have the produce_random_data, to produce single random data, but we need a batch of data...\n",
    "X_result = random_data_generator(X_temp, 128)\n",
    "for map_num in range(128):\n",
    "    gluewidth =[[354.0,320.0],[354.0,331.0],[387.0,330.0],[387.0,320.0]]\n",
    "    d = {\n",
    "    \"version\": \"4.6.0\",\n",
    "    \"flags\": {},\n",
    "    \"shapes\": [{\"label\":\"gluewidth\",\"points\":gluewidth}]\n",
    "    }\n",
    "    for i in range(25):\n",
    "        dict = {}\n",
    "        dict[\"label\"] = str(i)\n",
    "        dict[\"points\"] = X_result[map_num][:,(0,1)][4*i:4*i+4].tolist()\n",
    "        d[\"shapes\"].append(dict)\n",
    "\n",
    "    with open('10&15data/25_chips/25_generate'+str(map_num)+'.json', 'w') as f:\n",
    "        json.dump(d, f)"
   ]
  }
 ],
 "metadata": {
  "kernelspec": {
   "display_name": "Python [conda env:root] *",
   "language": "python",
   "name": "conda-root-py"
  },
  "language_info": {
   "codemirror_mode": {
    "name": "ipython",
    "version": 3
   },
   "file_extension": ".py",
   "mimetype": "text/x-python",
   "name": "python",
   "nbconvert_exporter": "python",
   "pygments_lexer": "ipython3",
   "version": "3.7.7"
  }
 },
 "nbformat": 4,
 "nbformat_minor": 5
}

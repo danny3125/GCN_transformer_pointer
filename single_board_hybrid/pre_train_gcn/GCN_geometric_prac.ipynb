{
 "cells": [
  {
   "cell_type": "code",
   "execution_count": 1,
   "id": "80886c55",
   "metadata": {},
   "outputs": [
    {
     "name": "stdout",
     "output_type": "stream",
     "text": [
      "pytorch version =  1.10.0\n",
      "['edge_index', 'pos', 'x']\n",
      "True\n",
      "True\n",
      "2\n",
      "5\n",
      "3\n"
     ]
    }
   ],
   "source": [
    "import torch\n",
    "from torch_geometric.nn import MessagePassing\n",
    "import torch_geometric.nn\n",
    "from torch_geometric.nn import MLP\n",
    "from torch_geometric.data import Data\n",
    "print('pytorch version = ',torch.__version__)\n",
    "\n",
    "\n",
    "pos = torch.tensor([[2,3],[4,5],[6,5]], dtype=torch.long)\n",
    "edge_index = torch.tensor([[100, 100],\n",
    "                           [150, 870],\n",
    "                           [130, 200],], dtype=torch.long)\n",
    "x = torch.tensor([[-1,4], [0,3], [1,6], [3,4], [2,44]], dtype=torch.float)\n",
    "\n",
    "data = Data(pos=pos, x=x, edge_index=edge_index.t().contiguous())\n",
    "mlp = MLP(in_channels=16, hidden_channels=32,\n",
    "          out_channels=128, num_layers=3)\n",
    "print(data.keys)\n",
    "print(data.has_self_loops())\n",
    "print(data.has_isolated_nodes())\n",
    "print(data.num_features)\n",
    "print(data.num_nodes)\n",
    "print(data.num_edges)"
   ]
  },
  {
   "cell_type": "code",
   "execution_count": 2,
   "id": "7992511c",
   "metadata": {},
   "outputs": [],
   "source": [
    "import pandas as pd\n",
    "import numpy as np\n",
    "import matplotlib.pyplot as plt\n",
    "import networkx as nx\n",
    "from torch_geometric.utils.convert import to_networkx, from_networkx\n",
    "import torch\n",
    "\n",
    "\n",
    "# Make the networkx graph\n",
    "G = nx.Graph()\n",
    "\n",
    "# Add some cars (just do 4 for now)\n",
    "G.add_nodes_from([\n",
    "      (683,152,0,3),\n",
    "      (623,132,0,3),\n",
    "      (456,142,0,1),\n",
    "      (432,192,0,2),\n",
    "])\n",
    "\n",
    "# Add some edges\n",
    "G.add_edges_from([\n",
    "                  (1, 2), (1, 4), (1, 5),\n",
    "                  (2, 3), (2, 4),\n",
    "                  (3, 2), (3, 5), \n",
    "                  (4, 1), (4, 2),\n",
    "                  (5, 1), (5, 3)\n",
    "])\n",
    "\n",
    "# Convert the graph into PyTorch geometric\n",
    "pyg_graph = from_networkx(G)"
   ]
  },
  {
   "cell_type": "code",
   "execution_count": 42,
   "id": "b5f703da",
   "metadata": {},
   "outputs": [],
   "source": [
    "embed_dim = 128\n",
    "from torch_geometric.nn import TopKPooling\n",
    "from torch_geometric.nn import global_mean_pool as gap, global_max_pool as gmp\n",
    "from torch_geometric.nn import GCNConv\n",
    "import torch.nn.functional as F\n",
    "import torch\n",
    "\n",
    "class Net(torch.nn.Module):\n",
    "    def __init__(self):\n",
    "        super(Net, self).__init__()\n",
    "\n",
    "        self.conv1 = GCNConv(-1, 128)\n",
    "        self.pool1 = TopKPooling(128, ratio=0.8)\n",
    "        self.conv2 = GCNConv(128, 128)\n",
    "        self.pool2 = TopKPooling(128, ratio=0.8)\n",
    "        self.conv3 = GCNConv(128, 128)\n",
    "        self.pool3 = TopKPooling(128, ratio=0.8)\n",
    "        self.lin1 = torch.nn.Linear(128, 128)\n",
    "        self.lin2 = torch.nn.Linear(128, 64)\n",
    "        self.lin3 = torch.nn.Linear(64, 1)\n",
    "        self.bn1 = torch.nn.BatchNorm1d(128)\n",
    "        self.bn2 = torch.nn.BatchNorm1d(64)\n",
    "        self.act1 = torch.nn.ReLU()\n",
    "        self.act2 = torch.nn.ReLU()        \n",
    "  \n",
    "    def forward(self, data):\n",
    "        x, edge_index, batch = data.x, data.edge_index, data.batch\n",
    "        print(x.dtype)\n",
    "        print(edge_index.dtype)\n",
    "        x = F.relu(self.conv1(x, edge_index))\n",
    "        x = F.relu(self.conv2(x, edge_index))\n",
    "        x = F.relu(self.conv3(x, edge_index))\n",
    "        print(x.shape)\n",
    "        x = self.lin1(x)\n",
    "        x = self.act1(x)\n",
    "        x = self.lin2(x)\n",
    "        x = self.act2(x)      \n",
    "        x = F.dropout(x, p=0.5, training=self.training)\n",
    "\n",
    "        x = torch.sigmoid(self.lin3(x)).squeeze(1)\n",
    "\n",
    "        return x"
   ]
  },
  {
   "cell_type": "code",
   "execution_count": 43,
   "id": "8a264710",
   "metadata": {},
   "outputs": [
    {
     "name": "stdout",
     "output_type": "stream",
     "text": [
      "torch.float32\n",
      "torch.int64\n",
      "torch.Size([4, 128])\n",
      "tensor([0.5187, 0.5227, 0.5139, 0.5168], grad_fn=<SqueezeBackward1>)\n"
     ]
    },
    {
     "ename": "AttributeError",
     "evalue": "'NoneType' object has no attribute 'to'",
     "output_type": "error",
     "traceback": [
      "\u001b[0;31m---------------------------------------------------------------------------\u001b[0m",
      "\u001b[0;31mAttributeError\u001b[0m                            Traceback (most recent call last)",
      "\u001b[0;32m/tmp/ipykernel_23046/3985765140.py\u001b[0m in \u001b[0;36m<module>\u001b[0;34m\u001b[0m\n\u001b[1;32m     30\u001b[0m \u001b[0moptimizer\u001b[0m \u001b[0;34m=\u001b[0m \u001b[0mtorch\u001b[0m\u001b[0;34m.\u001b[0m\u001b[0moptim\u001b[0m\u001b[0;34m.\u001b[0m\u001b[0mAdam\u001b[0m\u001b[0;34m(\u001b[0m\u001b[0mmodel\u001b[0m\u001b[0;34m.\u001b[0m\u001b[0mparameters\u001b[0m\u001b[0;34m(\u001b[0m\u001b[0;34m)\u001b[0m\u001b[0;34m,\u001b[0m \u001b[0mlr\u001b[0m\u001b[0;34m=\u001b[0m\u001b[0;36m0.005\u001b[0m\u001b[0;34m)\u001b[0m\u001b[0;34m\u001b[0m\u001b[0;34m\u001b[0m\u001b[0m\n\u001b[1;32m     31\u001b[0m \u001b[0mcrit\u001b[0m \u001b[0;34m=\u001b[0m \u001b[0mtorch\u001b[0m\u001b[0;34m.\u001b[0m\u001b[0mnn\u001b[0m\u001b[0;34m.\u001b[0m\u001b[0mBCELoss\u001b[0m\u001b[0;34m(\u001b[0m\u001b[0;34m)\u001b[0m\u001b[0;34m\u001b[0m\u001b[0;34m\u001b[0m\u001b[0m\n\u001b[0;32m---> 32\u001b[0;31m \u001b[0mtrain\u001b[0m\u001b[0;34m(\u001b[0m\u001b[0;34m)\u001b[0m\u001b[0;34m\u001b[0m\u001b[0;34m\u001b[0m\u001b[0m\n\u001b[0m",
      "\u001b[0;32m/tmp/ipykernel_23046/3985765140.py\u001b[0m in \u001b[0;36mtrain\u001b[0;34m()\u001b[0m\n\u001b[1;32m      9\u001b[0m     \u001b[0moutput\u001b[0m \u001b[0;34m=\u001b[0m \u001b[0mmodel\u001b[0m\u001b[0;34m(\u001b[0m\u001b[0mdata\u001b[0m\u001b[0;34m)\u001b[0m\u001b[0;34m\u001b[0m\u001b[0;34m\u001b[0m\u001b[0m\n\u001b[1;32m     10\u001b[0m     \u001b[0mprint\u001b[0m\u001b[0;34m(\u001b[0m\u001b[0moutput\u001b[0m\u001b[0;34m)\u001b[0m\u001b[0;34m\u001b[0m\u001b[0;34m\u001b[0m\u001b[0m\n\u001b[0;32m---> 11\u001b[0;31m     \u001b[0mlabel\u001b[0m \u001b[0;34m=\u001b[0m \u001b[0mdata\u001b[0m\u001b[0;34m.\u001b[0m\u001b[0my\u001b[0m\u001b[0;34m.\u001b[0m\u001b[0mto\u001b[0m\u001b[0;34m(\u001b[0m\u001b[0mdevice\u001b[0m\u001b[0;34m)\u001b[0m\u001b[0;34m\u001b[0m\u001b[0;34m\u001b[0m\u001b[0m\n\u001b[0m\u001b[1;32m     12\u001b[0m     \u001b[0mloss\u001b[0m \u001b[0;34m=\u001b[0m \u001b[0mcrit\u001b[0m\u001b[0;34m(\u001b[0m\u001b[0moutput\u001b[0m\u001b[0;34m,\u001b[0m \u001b[0mlabel\u001b[0m\u001b[0;34m)\u001b[0m\u001b[0;34m\u001b[0m\u001b[0;34m\u001b[0m\u001b[0m\n\u001b[1;32m     13\u001b[0m     \u001b[0mloss\u001b[0m\u001b[0;34m.\u001b[0m\u001b[0mbackward\u001b[0m\u001b[0;34m(\u001b[0m\u001b[0;34m)\u001b[0m\u001b[0;34m\u001b[0m\u001b[0;34m\u001b[0m\u001b[0m\n",
      "\u001b[0;31mAttributeError\u001b[0m: 'NoneType' object has no attribute 'to'"
     ]
    }
   ],
   "source": [
    "import torch\n",
    "from torch_geometric.nn import knn_graph\n",
    "from torch_geometric.loader import DataLoader\n",
    "from torch_geometric.data import Data\n",
    "def train():\n",
    "    model.train()\n",
    "    loss_all = 0\n",
    "    optimizer.zero_grad()\n",
    "    output = model(data)\n",
    "    print(output)\n",
    "    label = data.y.to(device)\n",
    "    loss = crit(output, label)\n",
    "    loss.backward()\n",
    "    optimizer.step()\n",
    "    return loss\n",
    "x = torch.Tensor([[-1, -1], [-1, 1], [1, -1], [1, 1]])\n",
    "dataset = x.repeat(128,1)\n",
    "x = x.repeat(128,1,1)\n",
    "loader = DataLoader(dataset, batch_size=128, shuffle=True)\n",
    "edge_index = torch.tensor([])\n",
    "for x_seed in x:\n",
    "    edge_index_temp = knn_graph(x_seed, k=1, loop=False)\n",
    "    edge_index_temp = torch.unsqueeze(edge_index_temp, 0)\n",
    "    edge_index = torch.cat((edge_index, edge_index_temp),0)\n",
    "x = torch.Tensor(x).type(torch.float)\n",
    "edge_index = torch.Tensor(edge_index).type(torch.long)\n",
    "data = Data(x=x[0],edge_index=edge_index[0],batch=128)\n",
    "# device = torch.device('cuda')\n",
    "model = Net()#.to(device)\n",
    "optimizer = torch.optim.Adam(model.parameters(), lr=0.005)\n",
    "crit = torch.nn.BCELoss()\n",
    "train()"
   ]
  },
  {
   "cell_type": "code",
   "execution_count": null,
   "id": "428d7c61",
   "metadata": {},
   "outputs": [],
   "source": [
    "import torch\n",
    "from torch_geometric.nn import knn_graph\n",
    "\n",
    "x = torch.Tensor([[-1, -1], [-1, 1], [1, -1], [1, 1]])\n",
    "batch = torch.tensor([0, 0, 0, 0])\n",
    "edge_index = knn_graph(x, k=2, batch=batch, loop=False)\n",
    "print(edge_index)"
   ]
  }
 ],
 "metadata": {
  "kernelspec": {
   "display_name": "Python [conda env:root] *",
   "language": "python",
   "name": "conda-root-py"
  },
  "language_info": {
   "codemirror_mode": {
    "name": "ipython",
    "version": 3
   },
   "file_extension": ".py",
   "mimetype": "text/x-python",
   "name": "python",
   "nbconvert_exporter": "python",
   "pygments_lexer": "ipython3",
   "version": "3.7.7"
  }
 },
 "nbformat": 4,
 "nbformat_minor": 5
}
